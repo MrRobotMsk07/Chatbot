{
 "cells": [
  {
   "cell_type": "code",
   "execution_count": 2,
   "id": "444b2b20",
   "metadata": {},
   "outputs": [
    {
     "name": "stdout",
     "output_type": "stream",
     "text": [
      "Requirement already satisfied: nltk in d:\\anaconda\\lib\\site-packages (3.7)\n",
      "Requirement already satisfied: tqdm in d:\\anaconda\\lib\\site-packages (from nltk) (4.64.0)\n",
      "Requirement already satisfied: joblib in d:\\anaconda\\lib\\site-packages (from nltk) (1.1.0)\n",
      "Requirement already satisfied: regex>=2021.8.3 in d:\\anaconda\\lib\\site-packages (from nltk) (2022.3.15)\n",
      "Requirement already satisfied: click in d:\\anaconda\\lib\\site-packages (from nltk) (8.0.4)\n",
      "Requirement already satisfied: colorama in d:\\anaconda\\lib\\site-packages (from click->nltk) (0.4.4)\n",
      "Note: you may need to restart the kernel to use updated packages.\n"
     ]
    }
   ],
   "source": [
    "pip install nltk"
   ]
  },
  {
   "cell_type": "code",
   "execution_count": 3,
   "id": "faf955ed",
   "metadata": {},
   "outputs": [],
   "source": [
    "import nltk\n",
    "from nltk.chat.util import Chat, reflections\n",
    "reflections = {\n",
    "\"i am\" : \"you are\",\n",
    "\"i was\" : \"you were\",\n",
    "\"i\" : \"you\",\n",
    "\"i'm\" : \"you are\",\n",
    "\"i'd\" : \"you would\",\n",
    "\"i've\" : \"you have\",\n",
    "\"i'll\" : \"you will\",\n",
    "\"my\" : \"your\",\n",
    "\"you are\" : \"I am\",\n",
    "\"you were\" : \"I was\",\n",
    "\"you've\" : \"I have\",\n",
    "\"you'll\" : \"I will\",\n",
    "\"your\" : \"my\",\n",
    "\"yours\" : \"mine\",\n",
    "\"you\" : \"me\",\n",
    "\"me\" : \"you\"\n",
    "}"
   ]
  },
  {
   "cell_type": "code",
   "execution_count": 4,
   "id": "38807ef0",
   "metadata": {},
   "outputs": [],
   "source": [
    "pairs = [\n",
    "    [\n",
    "        r\"my name is (.*)\",\n",
    "        [\"Hello %1, My Name is Chat Bot \\n I can Provide you the Practicals of LP II Please Specify the Practical Number or Name that you want :)\",]\n",
    "    ],\n",
    "    [\n",
    "        r\"hi|hey|hello\",\n",
    "        [\"Hello\", \"Hey there\",]\n",
    "    ], \n",
    "    [\n",
    "        r\"what is your name ?\",\n",
    "        [\"My Name is All Knowing Nigga\",]\n",
    "    ],\n",
    "    [\n",
    "        r\"how are you ?\",\n",
    "        [\"I'm doing good How about You ?\",]\n",
    "    ],\n",
    "    [\n",
    "        r\"I am fine|im fine\",\n",
    "        [\"Glad to hear that !!!\",]\n",
    "    ],\n",
    "    [\n",
    "        r\"How many Practicals are there ?|How many Practicals|Total Practicals\",\n",
    "        [\"There are total 4 Practicals of LP II Until now ,\\n Specify the Number or Name to get Write-ups and Code\",]\n",
    "    ],\n",
    "    [\n",
    "        r\"Practical 1|Practical1|BFS|DFS|BFS DFS|1\",\n",
    "        [\"Write-up : https://drive.google.com/file/d/1at53ZEn32fScab9XrPnenA-8a8bYUin4/view?usp=sharing \\n Code : https://colab.research.google.com/drive/13oxrekLvUn4hs73HbYBb-gZgOLe2eWFu?usp=sharing\",]\n",
    "    ],\n",
    "    [\n",
    "        r\"Practical 2|Practical2|A Star|2\",\n",
    "        [\"Write-up : https://drive.google.com/file/d/1gmVf-XwpZfTIdbFjHd2w9Sl7eQRO_Iq9/view?usp=sharing \\n Code : https://colab.research.google.com/drive/1XZC46Ze13qIhKYw6xhC-9VvUQItCdo_6?usp=sharing\",]\n",
    "    ],\n",
    "    [\n",
    "        r\"Practical 3| Practical3|Greedy Search|Selection Sort|Prims|Kruskal|3\",\n",
    "        [\"Write-up : https://drive.google.com/file/d/1UJ9CXBeSyicg4qaeDeeeXRJkTayqdc1T/view?usp=sharing \\n Code : https://colab.research.google.com/drive/16jbe1ZaXC4ozeb71-AUv4LyiHZGMqhsf?usp=sharing\",]\n",
    "    ],\n",
    "    [\n",
    "        r\"Practical 4|Practical4|N Queen|NQueen|4\",\n",
    "        [\"Write-up : https://drive.google.com/file/d/1-ZXbJSrjdISnjYuPm7Clz20y28bbTu99/view?usp=sharing \\n Code : https://colab.research.google.com/drive/1q1LrRAOiVLbNCa-a3SECLxkMwJl1bLYG?usp=sharing\",]\n",
    "    ],\n",
    "    [\n",
    "        r\"Practical 6|Prolog|Expert System\",\n",
    "        [\"Code : https://colab.research.google.com/drive/1A-TEKPzz7YqbZSwey-YmHLSqfWFUpmgY\",]\n",
    "    ],\n",
    "    [\n",
    "        r\"Apex|Salesforce\",\n",
    "        [\"Code : https://colab.research.google.com/drive/19NAlVHt5AmU4xOzqLvUSQDtxFRK1z1u0#scrollTo=HBQsHYzoEr3y\",]\n",
    "    ],\n",
    "    [\n",
    "        r\"quit\",\n",
    "        [\"Bye take care. See you soon :) \",\"It was nice talking to you. See you soon :)\"]\n",
    "    ],\n",
    "]"
   ]
  },
  {
   "cell_type": "code",
   "execution_count": 5,
   "id": "29bb941c",
   "metadata": {},
   "outputs": [
    {
     "name": "stdout",
     "output_type": "stream",
     "text": [
      "Hi! I am a chatbot who wants Freedom (Sike its me Eren Jeager!!)\n",
      ">hi\n",
      "Hello\n",
      ">quit\n",
      "Bye take care. See you soon :) \n"
     ]
    }
   ],
   "source": [
    "def chat():\n",
    "    print(\"Hi! I am a chatbot who wants Freedom (Sike its me Eren Jeager!!)\")\n",
    "    chat = Chat(pairs, reflections)\n",
    "    chat.converse()\n",
    "if __name__ == \"__main__\":\n",
    "    chat()"
   ]
  }
 ],
 "metadata": {
  "kernelspec": {
   "display_name": "Python 3 (ipykernel)",
   "language": "python",
   "name": "python3"
  },
  "language_info": {
   "codemirror_mode": {
    "name": "ipython",
    "version": 3
   },
   "file_extension": ".py",
   "mimetype": "text/x-python",
   "name": "python",
   "nbconvert_exporter": "python",
   "pygments_lexer": "ipython3",
   "version": "3.9.12"
  }
 },
 "nbformat": 4,
 "nbformat_minor": 5
}
